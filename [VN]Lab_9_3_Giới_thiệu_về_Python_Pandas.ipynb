{
  "nbformat": 4,
  "nbformat_minor": 0,
  "metadata": {
    "anaconda-cloud": {},
    "kernelspec": {
      "display_name": "Python 3",
      "language": "python",
      "name": "python3"
    },
    "language_info": {
      "codemirror_mode": {
        "name": "ipython",
        "version": 3
      },
      "file_extension": ".py",
      "mimetype": "text/x-python",
      "name": "python",
      "nbconvert_exporter": "python",
      "pygments_lexer": "ipython3",
      "version": "3.6.6"
    },
    "colab": {
      "provenance": [],
      "collapsed_sections": [],
      "include_colab_link": true
    }
  },
  "cells": [
    {
      "cell_type": "markdown",
      "metadata": {
        "id": "view-in-github",
        "colab_type": "text"
      },
      "source": [
        "<a href=\"https://colab.research.google.com/github/KZTH399/Lab9/blob/main/%5BVN%5DLab_9_3_Gi%E1%BB%9Bi_thi%E1%BB%87u_v%E1%BB%81_Python_Pandas.ipynb\" target=\"_parent\"><img src=\"https://colab.research.google.com/assets/colab-badge.svg\" alt=\"Open In Colab\"/></a>"
      ]
    },
    {
      "cell_type": "markdown",
      "metadata": {
        "id": "KTKuhlEflwFx"
      },
      "source": [
        "<h1>Lab 9.3 Giới thiệu về Python Pandas</h1>\n",
        "\n",
        "Thời lượng dự kiến: **15** phút"
      ]
    },
    {
      "cell_type": "markdown",
      "metadata": {
        "id": "SOutCo2SlwFx"
      },
      "source": [
        "<p><strong>Chào mừng!</strong> Notebook này sẽ hướng dẫn bạn cách sử dụng<code>Pandas</code> trong Ngôn ngữ Lập trình Python. Kết thúc bài Lab này, bạn sẽ biết cách sử dụng gói <code>Pandas</code>  để xem và truy cập dữ liệu.</p>"
      ]
    },
    {
      "cell_type": "markdown",
      "metadata": {
        "id": "JmuHMkS1lwFy"
      },
      "source": [
        "<h2>Mục lục</h2>\n",
        "<div class=\"alert alert-block alert-info\" style=\"margin-top: 20px\">\n",
        "    <ul>\n",
        "        <li>Về tập dữ liệu</li>\n",
        "        <li>Giới thiệu về <code>Pandas</code></li>\n",
        "        <li>Xem và truy cập dữ liệu</li>\n",
        "        <li>Quiz về Khung dữ liêu (DataFrame)</li>\n",
        "    </ul>\n",
        "</div>\n",
        "\n",
        "<hr>"
      ]
    },
    {
      "cell_type": "markdown",
      "metadata": {
        "id": "vKEYwcS7lwFy"
      },
      "source": [
        "<h2 id=\"dataset\">Về tập dữ liệu</h2>"
      ]
    },
    {
      "cell_type": "markdown",
      "metadata": {
        "id": "aYUHTV6BlwFy"
      },
      "source": [
        "Trong bảng, thông tin mỗi bộ phim nằm trong một hàng và các cột:\n",
        "\n",
        "<ul>\n",
        "    <li><b>artist</b>: Tên nghệ sĩ</li>\n",
        "    <li><b>album</b>: Tên album</li>\n",
        "    <li><b>released_year</b>: Năm phát hành album</li>\n",
        "    <li><b>length_min_sec</b>: Độ dài album (giờ, phút, giây)</li>\n",
        "    <li><b>genre</b>: Thể loại album</li>\n",
        "    <li><b>music_recording_sales_millions</b>: Doanh thu đĩa nhạc (triệu USD) trên <a href=\"http://www.song-database.com/\">[SONG://DATABASE]</a></li>\n",
        "    <li><b>claimed_sales_millions</b>: Doanh số đã tuyên bố của album (triệu USD) trên <a href=\"http://www.song-database.com/\">[SONG://DATABASE]</a></li>\n",
        "    <li><b>date_released</b>: Ngày phát hành album</li>\n",
        "    <li><b>soundtrack</b>: Cho biết album có phải là movie soundtrack (Y - Có) hay không (N - Không)</li>\n",
        "    <li><b>rating_of_friends</b>: Cho biết xếp hạng từ bạn bè từ 1 tới 10</li>\n",
        "</ul>\n",
        "\n",
        "Có thể xem tập dữ liệu bên dưới:\n",
        "\n",
        "<font size=\"1\">\n",
        "<table font-size:xx-small style=\"width:25%\">\n",
        "  <tr>\n",
        "    <th>Artist</th>\n",
        "    <th>Album</th> \n",
        "    <th>Released</th>\n",
        "    <th>Length</th>\n",
        "    <th>Genre</th> \n",
        "    <th>Music recording sales (millions)</th>\n",
        "    <th>Claimed sales (millions)</th>\n",
        "    <th>Released</th>\n",
        "    <th>Soundtrack</th>\n",
        "    <th>Rating (friends)</th>\n",
        "  </tr>\n",
        "  <tr>\n",
        "    <td>Michael Jackson</td>\n",
        "    <td>Thriller</td> \n",
        "    <td>1982</td>\n",
        "    <td>00:42:19</td>\n",
        "    <td>Pop, rock, R&B</td>\n",
        "    <td>46</td>\n",
        "    <td>65</td>\n",
        "    <td>30-Nov-82</td>\n",
        "    <td></td>\n",
        "    <td>10.0</td>\n",
        "  </tr>\n",
        "  <tr>\n",
        "    <td>AC/DC</td>\n",
        "    <td>Back in Black</td> \n",
        "    <td>1980</td>\n",
        "    <td>00:42:11</td>\n",
        "    <td>Hard rock</td>\n",
        "    <td>26.1</td>\n",
        "    <td>50</td>\n",
        "    <td>25-Jul-80</td>\n",
        "    <td></td>\n",
        "    <td>8.5</td>\n",
        "  </tr>\n",
        "    <tr>\n",
        "    <td>Pink Floyd</td>\n",
        "    <td>The Dark Side of the Moon</td> \n",
        "    <td>1973</td>\n",
        "    <td>00:42:49</td>\n",
        "    <td>Progressive rock</td>\n",
        "    <td>24.2</td>\n",
        "    <td>45</td>\n",
        "    <td>01-Mar-73</td>\n",
        "    <td></td>\n",
        "    <td>9.5</td>\n",
        "  </tr>\n",
        "    <tr>\n",
        "    <td>Whitney Houston</td>\n",
        "    <td>The Bodyguard</td> \n",
        "    <td>1992</td>\n",
        "    <td>00:57:44</td>\n",
        "    <td>Soundtrack/R&B, soul, pop</td>\n",
        "    <td>26.1</td>\n",
        "    <td>50</td>\n",
        "    <td>25-Jul-80</td>\n",
        "    <td>Y</td>\n",
        "    <td>7.0</td>\n",
        "  </tr>\n",
        "    <tr>\n",
        "    <td>Meat Loaf</td>\n",
        "    <td>Bat Out of Hell</td> \n",
        "    <td>1977</td>\n",
        "    <td>00:46:33</td>\n",
        "    <td>Hard rock, progressive rock</td>\n",
        "    <td>20.6</td>\n",
        "    <td>43</td>\n",
        "    <td>21-Oct-77</td>\n",
        "    <td></td>\n",
        "    <td>7.0</td>\n",
        "  </tr>\n",
        "    <tr>\n",
        "    <td>Eagles</td>\n",
        "    <td>Their Greatest Hits (1971-1975)</td> \n",
        "    <td>1976</td>\n",
        "    <td>00:43:08</td>\n",
        "    <td>Rock, soft rock, folk rock</td>\n",
        "    <td>32.2</td>\n",
        "    <td>42</td>\n",
        "    <td>17-Feb-76</td>\n",
        "    <td></td>\n",
        "    <td>9.5</td>\n",
        "  </tr>\n",
        "    <tr>\n",
        "    <td>Bee Gees</td>\n",
        "    <td>Saturday Night Fever</td> \n",
        "    <td>1977</td>\n",
        "    <td>1:15:54</td>\n",
        "    <td>Disco</td>\n",
        "    <td>20.6</td>\n",
        "    <td>40</td>\n",
        "    <td>15-Nov-77</td>\n",
        "    <td>Y</td>\n",
        "    <td>9.0</td>\n",
        "  </tr>\n",
        "    <tr>\n",
        "    <td>Fleetwood Mac</td>\n",
        "    <td>Rumours</td> \n",
        "    <td>1977</td>\n",
        "    <td>00:40:01</td>\n",
        "    <td>Soft rock</td>\n",
        "    <td>27.9</td>\n",
        "    <td>40</td>\n",
        "    <td>04-Feb-77</td>\n",
        "    <td></td>\n",
        "    <td>9.5</td>\n",
        "  </tr>\n",
        "</table></font>"
      ]
    },
    {
      "cell_type": "markdown",
      "metadata": {
        "id": "lF0jSHwslwF0"
      },
      "source": [
        "<hr>"
      ]
    },
    {
      "cell_type": "markdown",
      "metadata": {
        "id": "5ZOKz22plwF1"
      },
      "source": [
        "<h2 id=\"pandas\">Giới thiệu về <code>Pandas</code></h2>"
      ]
    },
    {
      "cell_type": "code",
      "metadata": {
        "id": "CgAoMlEZlwF2"
      },
      "source": [
        "# Dependency needed to install file \n",
        "\n",
        "!pip install xlrd"
      ],
      "execution_count": null,
      "outputs": []
    },
    {
      "cell_type": "code",
      "metadata": {
        "collapsed": true,
        "id": "9zaX0b1MlwF3"
      },
      "source": [
        "# Import required library\n",
        "\n",
        "import pandas as pd"
      ],
      "execution_count": null,
      "outputs": []
    },
    {
      "cell_type": "markdown",
      "metadata": {
        "id": "_WnSbGsQlwF4"
      },
      "source": [
        "Sau lệnh nhập, bây giờ chúng ta có quyền truy cập vào một lượng lớn các lớp và hàm được tạo sẵn. Giả sử thư viện đã được cài đặt; trong môi trường lab của chúng ta, tất cả các thư viện cần thiết đã được cài đặt. Pandas cho phép bạn làm việc với dữ liệu qua khung dữ liệu. Hãy thực hiện quá trình để chuyển từ tệp các giá trị được phân tách bằng dấu phẩy (<b>.csv</b>) sang khung dữ liệu. Biến <code>csv_path</code> lưu trữ đường dẫn của <b>.csv</b>, được sử dụng làm đối số cho hàm <code> read_csv</code>. Kết quả được lưu trữ trong đối tượng <code> df</code>, đây là dạng rút gọn phổ biến được sử dụng cho một biến tham chiếu đến khung dữ liệu Pandas."
      ]
    },
    {
      "cell_type": "code",
      "metadata": {
        "scrolled": true,
        "id": "3m9lhj31lwF4"
      },
      "source": [
        "# Read data from CSV file\n",
        "\n",
        "csv_path = 'https://s3-api.us-geo.objectstorage.softlayer.net/cf-courses-data/CognitiveClass/PY0101EN/Chapter%204/Datasets/TopSellingAlbums.csv'\n",
        "df = pd.read_csv(csv_path)"
      ],
      "execution_count": null,
      "outputs": []
    },
    {
      "cell_type": "markdown",
      "metadata": {
        "id": "uxNS_aqKlwF4"
      },
      "source": [
        "Chúng ta có thể sử dụng phương thức <code> head()</code> để kiểm tra 5 hàng đầu của khung dữ liệu:"
      ]
    },
    {
      "cell_type": "code",
      "metadata": {
        "id": "ApJs4-2XlwF5"
      },
      "source": [
        "# Print first five rows of the dataframe\n",
        "\n",
        "df.head()"
      ],
      "execution_count": null,
      "outputs": []
    },
    {
      "cell_type": "markdown",
      "metadata": {
        "id": "G8x84PT2lwF5"
      },
      "source": [
        "Chúng ta sử dụng đường dẫn của tệp excel và hàm <code>read_excel</code>. Kết quả được một khung dữ liệu như trước:"
      ]
    },
    {
      "cell_type": "code",
      "metadata": {
        "id": "mUgaRrNVlwF5"
      },
      "source": [
        "# Read data from Excel File and print the first five rows\n",
        "\n",
        "xlsx_path = 'https://s3-api.us-geo.objectstorage.softlayer.net/cf-courses-data/CognitiveClass/PY0101EN/Chapter%204/Datasets/TopSellingAlbums.xlsx'\n",
        "\n",
        "df = pd.read_excel(xlsx_path)\n",
        "df.head()"
      ],
      "execution_count": null,
      "outputs": []
    },
    {
      "cell_type": "markdown",
      "metadata": {
        "id": "PwEfsasSlwF6"
      },
      "source": [
        "Chúng ta có thể truy cập cột <b>Length</b> và gán cho nó một khung dữ liệu mới <b> x</b>:"
      ]
    },
    {
      "cell_type": "code",
      "metadata": {
        "id": "8JDgkOi9lwF6"
      },
      "source": [
        "# Access to the column Length\n",
        "\n",
        "x = df[['Length']]\n",
        "x"
      ],
      "execution_count": null,
      "outputs": []
    },
    {
      "cell_type": "markdown",
      "metadata": {
        "id": "igk-_g36lwF6"
      },
      "source": [
        "Quá trình được hiển thị trong hình:"
      ]
    },
    {
      "cell_type": "markdown",
      "metadata": {
        "id": "qn_f9b1MlwF7"
      },
      "source": [
        "<img src=\"https://s3-api.us-geo.objectstorage.softlayer.net/cf-courses-data/CognitiveClass/PY0101EN/Chapter%204/Images/DataEgOne.png\" width=\"750\" />"
      ]
    },
    {
      "cell_type": "markdown",
      "metadata": {
        "id": "QNfeB_OqlwF7"
      },
      "source": [
        "<hr>"
      ]
    },
    {
      "cell_type": "markdown",
      "metadata": {
        "id": "SVR2hr4_lwF7"
      },
      "source": [
        "<h2 id=\"data\">Xem và truy cập dữ liệu</h2>"
      ]
    },
    {
      "cell_type": "markdown",
      "metadata": {
        "id": "adHvzeCXlwF7"
      },
      "source": [
        "Bạn cũng có thể lấy một cột dưới dạng một chuỗi. Bạn có thể coi chuỗi Pandas là khung dữ liệu 1-D. Chỉ cần sử dụng một dấu ngoặc:"
      ]
    },
    {
      "cell_type": "code",
      "metadata": {
        "id": "MJG_b9cAlwF8"
      },
      "source": [
        "# Get the column as a series\n",
        "\n",
        "x = df['Length']\n",
        "x"
      ],
      "execution_count": null,
      "outputs": []
    },
    {
      "cell_type": "markdown",
      "metadata": {
        "id": "b1EOtHmtlwF8"
      },
      "source": [
        "Bạn cũng có thể lấy một cột làm khung dữ liệu. Ví dụ: chúng ta có thể chỉ định cột <b>Artist</b>:"
      ]
    },
    {
      "cell_type": "code",
      "metadata": {
        "id": "PMW1949AlwF8"
      },
      "source": [
        "# Get the column as a dataframe\n",
        "\n",
        "x = type(df[['Artist']])\n",
        "x"
      ],
      "execution_count": null,
      "outputs": []
    },
    {
      "cell_type": "markdown",
      "metadata": {
        "id": "LMxIvhIolwF9"
      },
      "source": [
        "Bạn có thể làm điều tương tự cho nhiều cột; chúng ta chỉ đặt tên khung dữ liệu, trong trường hợp này là <code> df</code> và tên nhiều tiêu đề cột được đặt trong dấu ngoặc kép. Kết quả được một khung dữ liệu mới bao gồm các cột được chỉ định:\n"
      ]
    },
    {
      "cell_type": "code",
      "metadata": {
        "id": "Pw2MLc8nlwF9"
      },
      "source": [
        "# Access to multiple columns\n",
        "\n",
        "y = df[['Artist','Length','Genre']]\n",
        "y"
      ],
      "execution_count": null,
      "outputs": []
    },
    {
      "cell_type": "markdown",
      "metadata": {
        "id": "OkPMXJ0ZlwF9"
      },
      "source": [
        "Quá trình được hiển thị trong hình:"
      ]
    },
    {
      "cell_type": "markdown",
      "metadata": {
        "id": "FKBNvRi_lwF-"
      },
      "source": [
        "<img src = \"https://s3-api.us-geo.objectstorage.softlayer.net/cf-courses-data/CognitiveClass/PY0101EN/Chapter%204/Images/DataEgTwo.png\" width=\"1100\" />"
      ]
    },
    {
      "cell_type": "markdown",
      "metadata": {
        "id": "KFBrD3BtlwF-"
      },
      "source": [
        "Một cách để truy cập các phần tử duy nhất là phương thức <code> iloc</code>, bạn có thể truy cập hàng đầu tiên và cột đầu tiên như sau:"
      ]
    },
    {
      "cell_type": "code",
      "metadata": {
        "id": "h9hNhS96lwF-"
      },
      "source": [
        "# Access the value on the first row and the first column\n",
        "\n",
        "df.iloc[0, 0]"
      ],
      "execution_count": null,
      "outputs": []
    },
    {
      "cell_type": "markdown",
      "metadata": {
        "id": "zmxuMyijlwF-"
      },
      "source": [
        "Bạn có thể truy cập hàng thứ 2 và cột thứ nhất như sau:"
      ]
    },
    {
      "cell_type": "code",
      "metadata": {
        "id": "p5WZxsySlwF-"
      },
      "source": [
        "# Access the value on the second row and the first column\n",
        "\n",
        "df.iloc[1,0]"
      ],
      "execution_count": null,
      "outputs": []
    },
    {
      "cell_type": "markdown",
      "metadata": {
        "id": "2ABcH-relwF_"
      },
      "source": [
        "Bạn có thể truy cập hàng đầu tiên và cột thứ 3 như sau:"
      ]
    },
    {
      "cell_type": "code",
      "metadata": {
        "id": "f1BidieHlwF_"
      },
      "source": [
        "# Access the value on the first row and the third column\n",
        "\n",
        "df.iloc[0,2]"
      ],
      "execution_count": null,
      "outputs": []
    },
    {
      "cell_type": "markdown",
      "metadata": {
        "id": "y_5cXemylwF_"
      },
      "source": [
        "Bạn cũng có thể truy cập cột bằng cách sử dụng tên, các mục sau giống như trên:"
      ]
    },
    {
      "cell_type": "code",
      "metadata": {
        "id": "OyfwNFr-lwF_"
      },
      "source": [
        "# Access the column using the name\n",
        "\n",
        "df.loc[0, 'Artist']"
      ],
      "execution_count": null,
      "outputs": []
    },
    {
      "cell_type": "code",
      "metadata": {
        "id": "3H8SpZ6ZlwF_"
      },
      "source": [
        "# Access the column using the name\n",
        "\n",
        "df.loc[1, 'Artist']"
      ],
      "execution_count": null,
      "outputs": []
    },
    {
      "cell_type": "code",
      "metadata": {
        "id": "rZBekudClwGA"
      },
      "source": [
        "# Access the column using the name\n",
        "\n",
        "df.loc[0, 'Released']"
      ],
      "execution_count": null,
      "outputs": []
    },
    {
      "cell_type": "code",
      "metadata": {
        "id": "V5v6SIr7lwGA"
      },
      "source": [
        "# Access the column using the name\n",
        "\n",
        "df.loc[1, 'Released']"
      ],
      "execution_count": null,
      "outputs": []
    },
    {
      "cell_type": "markdown",
      "metadata": {
        "id": "r7WTajwslwGA"
      },
      "source": [
        "Bạn có thể thực hiện cắt bằng cách sử dụng cả chỉ mục và tên của cột:"
      ]
    },
    {
      "cell_type": "code",
      "metadata": {
        "id": "JmPCaqbGlwGA"
      },
      "source": [
        "# Slicing the dataframe\n",
        "\n",
        "df.iloc[0:2, 0:3]"
      ],
      "execution_count": null,
      "outputs": []
    },
    {
      "cell_type": "code",
      "metadata": {
        "id": "LbwsduJXlwGB"
      },
      "source": [
        "# Slicing the dataframe using name\n",
        "\n",
        "df.loc[0:2, 'Artist':'Released']"
      ],
      "execution_count": null,
      "outputs": []
    },
    {
      "cell_type": "markdown",
      "metadata": {
        "id": "m1XNH-FNlwGB"
      },
      "source": [
        "<hr>"
      ]
    },
    {
      "cell_type": "markdown",
      "metadata": {
        "id": "IhJQnUK7lwGB"
      },
      "source": [
        "<h2 id=\"quiz\">Quiz về Khung dữ liệu</h2>"
      ]
    },
    {
      "cell_type": "markdown",
      "metadata": {
        "id": "pesi5IyMlwGB"
      },
      "source": [
        "Sử dụng biến <code> q</code> để lưu cột <b>Rating</b> dưới dạng khung dữ liệu"
      ]
    },
    {
      "cell_type": "code",
      "metadata": {
        "id": "i8YLne93lwGB"
      },
      "source": [
        "# Write your code below and press Shift+Enter to execute"
      ],
      "execution_count": null,
      "outputs": []
    },
    {
      "cell_type": "markdown",
      "metadata": {
        "id": "1kSPJh4DlwGC"
      },
      "source": [
        "Bấm __vào đây__ để xem đáp án.\n",
        "\n",
        "<!-- Your answer is below:\n",
        "q = df[['Rating']]\n",
        "q\n",
        "-->"
      ]
    },
    {
      "cell_type": "markdown",
      "metadata": {
        "id": "N3qbaE-MlwGC"
      },
      "source": [
        "Gán biến <code> q</code> cho khung dữ liệu được tạo thành từ cột <b>Released</b> và <b>Artist</b>:"
      ]
    },
    {
      "cell_type": "code",
      "metadata": {
        "id": "KQPha6nflwGC"
      },
      "source": [
        "# Write your code below and press Shift+Enter to execute"
      ],
      "execution_count": null,
      "outputs": []
    },
    {
      "cell_type": "markdown",
      "metadata": {
        "id": "yuIX6_E5lwGC"
      },
      "source": [
        "Bấm __vào đây__ để xem đáp án.\n",
        "\n",
        "<!-- Your answer is below:\n",
        "q = df[['Released', 'Artist']]\n",
        "q\n",
        "-->"
      ]
    },
    {
      "cell_type": "markdown",
      "metadata": {
        "id": "--GPZYlKlwGD"
      },
      "source": [
        "Truy cập hàng thứ 2 và cột thứ 3 của <code> df</code>:"
      ]
    },
    {
      "cell_type": "code",
      "metadata": {
        "id": "BbrS1q7elwGD"
      },
      "source": [
        "# Write your code below and press Shift+Enter to execute"
      ],
      "execution_count": null,
      "outputs": []
    },
    {
      "cell_type": "markdown",
      "metadata": {
        "id": "_3rNzJg2lwGD"
      },
      "source": [
        "Bấm __vào đây__ để xem đáp án.\n",
        "\n",
        "<!-- Your answer is below:\n",
        "df.iloc[1, 2]\n",
        "-->"
      ]
    },
    {
      "cell_type": "markdown",
      "metadata": {
        "id": "XbFEtEUXlwGD"
      },
      "source": [
        "<hr>\n",
        "Nguồn: IBM\n",
        "<hr>\n"
      ]
    },
    {
      "cell_type": "markdown",
      "metadata": {
        "id": "fE8av3mSlwGE"
      },
      "source": [
        "<hr>"
      ]
    }
  ]
}